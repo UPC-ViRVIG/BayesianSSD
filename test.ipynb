{
 "cells": [
  {
   "cell_type": "code",
   "execution_count": null,
   "metadata": {},
   "outputs": [],
   "source": [
    "import sys\n",
    "import numpy as np"
   ]
  },
  {
   "cell_type": "code",
   "execution_count": null,
   "metadata": {},
   "outputs": [],
   "source": [
    "def read_array_from_file(filename, dtype=float):\n",
    "  \"\"\"\n",
    "  Reads an array of the specified data type from a binary file.\n",
    "\n",
    "  Args:\n",
    "      filename (str): The name of the file to read from.\n",
    "      dtype (dtype, optional): The data type of the elements in the array.\n",
    "          Defaults to float.\n",
    "\n",
    "  Returns:\n",
    "      numpy.ndarray: The array read from the file.\n",
    "  \"\"\"\n",
    "\n",
    "  with open(filename, \"rb\") as file:\n",
    "    # Read the size of the array\n",
    "    size = np.fromfile(file, dtype=np.int64, count=1)[0]\n",
    "\n",
    "    # Read the array elements\n",
    "    data = np.fromfile(file, dtype=dtype, count=size)\n",
    "\n",
    "  return data\n"
   ]
  },
  {
   "cell_type": "code",
   "execution_count": null,
   "metadata": {},
   "outputs": [],
   "source": [
    "import matplotlib.pyplot as plt\n",
    "values = np.nan_to_num(read_array_from_file(\"diff.bin\", np.float64))\n",
    "absmax = 0.01 * np.std(np.abs(values))\n",
    "\n",
    "plt.plot(values)\n",
    "plt.ylim(-absmax, absmax)\n",
    "plt.show()\n"
   ]
  },
  {
   "cell_type": "code",
   "execution_count": null,
   "metadata": {},
   "outputs": [],
   "source": [
    "import matplotlib.pyplot as plt\n",
    "values = np.nan_to_num(read_array_from_file(\"diff2.bin\", np.float64))\n",
    "absmax = np.max(np.abs(values))\n",
    "\n",
    "plt.plot(values)\n",
    "plt.ylim(-absmax, absmax)\n",
    "plt.show()\n"
   ]
  },
  {
   "cell_type": "code",
   "execution_count": null,
   "metadata": {},
   "outputs": [],
   "source": [
    "import sys\n",
    "import numpy as np\n",
    "import matplotlib.pyplot as plt\n",
    "\n",
    "def read_array_from_file(filename, dtype=float):\n",
    "  \"\"\"\n",
    "  Reads an array of the specified data type from a binary file.\n",
    "\n",
    "  Args:\n",
    "      filename (str): The name of the file to read from.\n",
    "      dtype (dtype, optional): The data type of the elements in the array.\n",
    "          Defaults to float.\n",
    "\n",
    "  Returns:\n",
    "      numpy.ndarray: The array read from the file.\n",
    "  \"\"\"\n",
    "\n",
    "  with open(filename, \"rb\") as file:\n",
    "    # Read the size of the array\n",
    "    size = np.fromfile(file, dtype=int, count=1)[0]\n",
    "\n",
    "    # Read the array elements\n",
    "    data = np.fromfile(file, dtype=np.float32, count=size)\n",
    "\n",
    "  return data"
   ]
  },
  {
   "cell_type": "code",
   "execution_count": null,
   "metadata": {},
   "outputs": [],
   "source": [
    "muVec = read_array_from_file(\"./muVec.bin\")[1:]\n",
    "stdVec = np.sqrt(read_array_from_file(\"./varVec.bin\")[1:])\n",
    "\n",
    "plt.plot(muVec, label='mean')\n",
    "plt.plot(muVec + 2 * stdVec, label='upper')\n",
    "plt.plot(muVec - 2 * stdVec, label='lower')\n",
    "\n",
    "plt.show()"
   ]
  },
  {
   "cell_type": "code",
   "execution_count": 1,
   "metadata": {},
   "outputs": [],
   "source": [
    "#%matplotlib widget\n",
    "import matplotlib.pyplot as plt\n",
    "import numpy as np\n",
    "import scipy.sparse as sparse\n",
    "#plt.style.use('_mpl-gallery')"
   ]
  },
  {
   "cell_type": "code",
   "execution_count": 2,
   "metadata": {},
   "outputs": [],
   "source": [
    "def read_matrix_from_file(filename):\n",
    "    \"\"\"Reads a matrix from a binary file written by the C++ code.\"\"\"\n",
    "    try:\n",
    "        with open(filename, \"rb\") as f:\n",
    "            rows = np.fromfile(f, dtype=np.int32, count=1)[0]\n",
    "            cols = np.fromfile(f, dtype=np.int32, count=1)[0]\n",
    "            matrix = np.fromfile(f, dtype=np.float64, count=rows * cols).reshape(cols, rows)\n",
    "            return matrix.T\n",
    "    except FileNotFoundError:\n",
    "        print(f\"Error: File not found: {filename}\")\n",
    "        return None\n",
    "    except Exception as e: # Catch other potential errors during file reading\n",
    "        print(f\"An error occurred: {e}\")\n",
    "        return None\n"
   ]
  },
  {
   "cell_type": "code",
   "execution_count": null,
   "metadata": {},
   "outputs": [
    {
     "name": "stdout",
     "output_type": "stream",
     "text": [
      "(2048, 2048, 3)\n"
     ]
    },
    {
     "ename": "error",
     "evalue": "OpenCV(4.8.1) D:\\a\\opencv-python\\opencv-python\\opencv\\modules\\imgcodecs\\src\\grfmt_exr.cpp:103: error: (-213:The function/feature is not implemented) imgcodecs: OpenEXR codec is disabled. You can enable it via 'OPENCV_IO_ENABLE_OPENEXR' option. Refer for details and cautions here: https://github.com/opencv/opencv/issues/21326 in function 'cv::initOpenEXR'\n",
     "output_type": "error",
     "traceback": [
      "\u001b[1;31m---------------------------------------------------------------------------\u001b[0m",
      "\u001b[1;31merror\u001b[0m                                     Traceback (most recent call last)",
      "Cell \u001b[1;32mIn[6], line 11\u001b[0m\n\u001b[0;32m      9\u001b[0m \u001b[38;5;28mprint\u001b[39m(final\u001b[38;5;241m.\u001b[39mshape)\n\u001b[0;32m     10\u001b[0m final \u001b[38;5;241m=\u001b[39m final\u001b[38;5;241m.\u001b[39mastype(np\u001b[38;5;241m.\u001b[39mfloat32)\n\u001b[1;32m---> 11\u001b[0m \u001b[43mcv2\u001b[49m\u001b[38;5;241;43m.\u001b[39;49m\u001b[43mimwrite\u001b[49m\u001b[43m(\u001b[49m\u001b[38;5;124;43m\"\u001b[39;49m\u001b[38;5;124;43m./test/grayScaleImage2SSD.exr\u001b[39;49m\u001b[38;5;124;43m\"\u001b[39;49m\u001b[43m,\u001b[49m\u001b[43m \u001b[49m\u001b[43mfinal\u001b[49m\u001b[43m)\u001b[49m\n",
      "\u001b[1;31merror\u001b[0m: OpenCV(4.8.1) D:\\a\\opencv-python\\opencv-python\\opencv\\modules\\imgcodecs\\src\\grfmt_exr.cpp:103: error: (-213:The function/feature is not implemented) imgcodecs: OpenEXR codec is disabled. You can enable it via 'OPENCV_IO_ENABLE_OPENEXR' option. Refer for details and cautions here: https://github.com/opencv/opencv/issues/21326 in function 'cv::initOpenEXR'\n"
     ]
    }
   ],
   "source": [
    "import os\n",
    "os.environ[\"OPENCV_IO_ENABLE_OPENEXR\"] = \"1\"\n",
    "import cv2\n",
    "mat = read_matrix_from_file(\"./PSRtestSvalue.bin\")\n",
    "final = np.empty((mat.shape[0], mat.shape[1], 3))\n",
    "final[..., 0] = mat\n",
    "final[..., 1] = mat\n",
    "final[..., 2] = mat\n",
    "print(final.shape)\n",
    "final = final.astype(np.float32)\n",
    "cv2.imwrite(\"./test/grayScaleImage2SSD.exr\", final)"
   ]
  },
  {
   "cell_type": "code",
   "execution_count": 3,
   "metadata": {},
   "outputs": [],
   "source": [
    "def visualize_matrix_sparsity(matrix, title=\"Matrix Sparsity\"):\n",
    "    \"\"\"Visualizes the sparsity pattern of a matrix using matplotlib.\n",
    "\n",
    "    Args:\n",
    "        matrix: A NumPy array or SciPy sparse matrix.\n",
    "        title: The title of the plot.\n",
    "    \"\"\"\n",
    "\n",
    "    plt.figure(figsize=(8, 6))  # Adjust figure size for better visualization\n",
    "\n",
    "    if sparse.issparse(matrix):\n",
    "        plt.spy(matrix, markersize=1)  # Use spy for sparse matrices\n",
    "    else:\n",
    "        plt.imshow(matrix, cmap=\"viridis\", interpolation=\"nearest\") # imshow for dense matrices\n",
    "\n",
    "    plt.title(title)\n",
    "    plt.xlabel(\"Columns\")\n",
    "    plt.ylabel(\"Rows\")\n",
    "    plt.colorbar(label=\"Value (if dense)\") # Add colorbar for dense matrices\n",
    "    plt.tight_layout() # Adjust layout to prevent labels from overlapping\n",
    "    plt.show()"
   ]
  },
  {
   "cell_type": "code",
   "execution_count": 4,
   "metadata": {},
   "outputs": [
    {
     "ename": "NameError",
     "evalue": "name 'read_array_from_file' is not defined",
     "output_type": "error",
     "traceback": [
      "\u001b[1;31m---------------------------------------------------------------------------\u001b[0m",
      "\u001b[1;31mNameError\u001b[0m                                 Traceback (most recent call last)",
      "Cell \u001b[1;32mIn[4], line 3\u001b[0m\n\u001b[0;32m      1\u001b[0m invGT \u001b[38;5;241m=\u001b[39m read_matrix_from_file(\u001b[38;5;124m\"\u001b[39m\u001b[38;5;124m./mats/invSVDmat.bin\u001b[39m\u001b[38;5;124m\"\u001b[39m)\n\u001b[0;32m      2\u001b[0m \u001b[38;5;66;03m# invGT1 = read_matrix_from_file(\"./invSVDmat.bin\")\u001b[39;00m\n\u001b[1;32m----> 3\u001b[0m a \u001b[38;5;241m=\u001b[39m \u001b[43mread_array_from_file\u001b[49m(\u001b[38;5;124m\"\u001b[39m\u001b[38;5;124m./mats/vecVarSimp237.bin\u001b[39m\u001b[38;5;124m\"\u001b[39m)\n\u001b[0;32m      4\u001b[0m \u001b[38;5;66;03m# invGT = np.sqrt(np.maximum(invGT, 0.0))\u001b[39;00m\n\u001b[0;32m      5\u001b[0m \u001b[38;5;66;03m# for k in [128, 181, 256, 362, 512, 724, 1024, 1448, 2048, 2896, 4096]:\u001b[39;00m\n\u001b[0;32m      6\u001b[0m \u001b[38;5;66;03m#     for mode in [0, 1, 2, 3]:\u001b[39;00m\n\u001b[1;32m   (...)\u001b[0m\n\u001b[0;32m     10\u001b[0m \u001b[38;5;66;03m#         print(np.mean(inv), end=', ')\u001b[39;00m\n\u001b[0;32m     11\u001b[0m \u001b[38;5;66;03m#     print(\"\")\u001b[39;00m\n\u001b[0;32m     13\u001b[0m \u001b[38;5;28mprint\u001b[39m(\u001b[38;5;124m\"\u001b[39m\u001b[38;5;124m\"\u001b[39m)\n",
      "\u001b[1;31mNameError\u001b[0m: name 'read_array_from_file' is not defined"
     ]
    }
   ],
   "source": [
    "invGT = read_matrix_from_file(\"./mats/invSVDmat.bin\")\n",
    "# invGT1 = read_matrix_from_file(\"./invSVDmat.bin\")\n",
    "a = read_array_from_file(\"./mats/vecVarSimp237.bin\")\n",
    "# invGT = np.sqrt(np.maximum(invGT, 0.0))\n",
    "# for k in [128, 181, 256, 362, 512, 724, 1024, 1448, 2048, 2896, 4096]:\n",
    "#     for mode in [0, 1, 2, 3]:\n",
    "#         inv = read_matrix_from_file(f\"./mats/invSVDmat_M{mode}_K{k}.bin\")\n",
    "#         inv = np.sqrt(inv)\n",
    "#         inv = np.abs(inv - invGT)/invGT\n",
    "#         print(np.mean(inv), end=', ')\n",
    "#     print(\"\")\n",
    "\n",
    "print(\"\")\n",
    "print(\"\")\n",
    "print(\"\")\n",
    "print(\"\")\n",
    "\n",
    "# for k in [128, 181, 256, 362, 512, 724, 1024, 1448, 2048, 2896, 4096]:\n",
    "#     for mode in [0, 1, 2, 3]:\n",
    "#         inv = read_matrix_from_file(f\"./mats/invSVDmat_M{mode}_K{k}.bin\")\n",
    "#         inv = np.sqrt(inv)\n",
    "#         inv = np.abs(inv - invGT)/np.maximum(invGT, 1e-6)\n",
    "#         print(np.mean(np.diag(inv)), end=', ')\n",
    "#     print(\"\")\n",
    "\n",
    "np.mean(np.abs(np.sqrt(np.diag(invGT)) - np.sqrt(a)) / np.sqrt(np.diag(invGT)))\n",
    "# print(np.mean(np.abs(invGT - inv)))\n",
    "# print(np.mean(np.abs(np.diag(invGT) - np.diag(inv))))"
   ]
  },
  {
   "cell_type": "code",
   "execution_count": 24,
   "metadata": {},
   "outputs": [
    {
     "data": {
      "image/png": "[encoded data removed]",
      "text/plain": [
       "<Figure size 350x250 with 1 Axes>"
      ]
     },
     "metadata": {},
     "output_type": "display_data"
    }
   ],
   "source": [
    "opt_k = [\n",
    "    0.620539621,\n",
    "    0.580136935,\n",
    "    0.547395404,\n",
    "    0.512104248,\n",
    "    0.473214582,\n",
    "    0.435137769,\n",
    "    0.394662202,\n",
    "    0.349377237,\n",
    "    0.299330983,\n",
    "    0.241033476,\n",
    "    0.171649362 ]\n",
    "lap_k = [\n",
    "    0.721227343,\n",
    "    0.688829644,\n",
    "    0.654873628,\n",
    "    0.617567421,\n",
    "    0.578470914,\n",
    "    0.533537025,\n",
    "    0.480695034,\n",
    "    0.417970392,\n",
    "    0.345661664,\n",
    "    0.267647031,\n",
    "    0.189561115]\n",
    "\n",
    "val_k = [\n",
    "    128,\n",
    "    181,\n",
    "    256,\n",
    "    362,\n",
    "    512,\n",
    "    724,\n",
    "    1024,\n",
    "    1448,\n",
    "    2048,\n",
    "    2896,\n",
    "    4096]\n",
    "\n",
    "redOctree=[ 0.315845489, 0.14282730 ]\n",
    "\n",
    "val_k1 = [273, 1357]\n",
    "\n",
    "plt.close()\n",
    "plt.figure(figsize=(3.5, 2.5))\n",
    "plt.plot(val_k, opt_k, label='opt-rank-k', color='orange', linewidth=1.95)\n",
    "plt.plot(val_k, lap_k, label='lap-rank-k', color='green', linewidth=1.95)\n",
    "plt.scatter(val_k1, redOctree, label='red-octree', color='steelblue', s=29)\n",
    "plt.xscale('log')\n",
    "plt.legend()\n",
    "plt.grid(False)\n",
    "plt.xlabel('Matrix Rank', fontsize=10)\n",
    "plt.ylabel('Error percentage', fontsize=10)\n",
    "plt.ylim(0, 0.9)\n",
    "plt.xticks([128, 256, 512, 1024, 2048, 4096], [str(val) for val in [128, 256, 512, 1024, 2048, 4096]])\n",
    "plt.gca().set_xticks([128, 256, 512, 1024, 2048, 4096])\n",
    "plt.gca().xaxis.set_tick_params(which='major', length=3) # Adjust length as needed\n",
    "plt.gca().set_xticks([], minor=True) # remove minor ticks\n",
    "plt.grid(axis='y', linestyle='-', linewidth=0.5)\n",
    "# plt.subplots_adjust(left=0.2, bottom=0.2, right=0.9, top=0.9)\n",
    "plt.savefig('./figures/CovEsti.pdf', bbox_inches='tight', dpi=2048, pad_inches=0.03)\n",
    "plt.show()"
   ]
  },
  {
   "cell_type": "code",
   "execution_count": 25,
   "metadata": {},
   "outputs": [
    {
     "data": {
      "image/png": "[encoded data removed]",
      "text/plain": [
       "<Figure size 350x150 with 1 Axes>"
      ]
     },
     "metadata": {},
     "output_type": "display_data"
    }
   ],
   "source": [
    "lap_k = [\n",
    "    0.083922,\n",
    "    0.15257,\n",
    "    0.1832,\n",
    "    0.30225,\n",
    "    0.633,\n",
    "    0.86169,\n",
    "    1.6879,\n",
    "    4.15443,\n",
    "    7.6099,\n",
    "    18.0785,\n",
    "    47.54]\n",
    "\n",
    "val_k = [\n",
    "    128,\n",
    "    181,\n",
    "    256,\n",
    "    362,\n",
    "    512,\n",
    "    724,\n",
    "    1024,\n",
    "    1448,\n",
    "    2048,\n",
    "    2896,\n",
    "    4096]\n",
    "\n",
    "redOctree=[ 0.0946, 2.1 ]\n",
    "\n",
    "val_k1 = [273, 1357]\n",
    "base = 244.9\n",
    "\n",
    "# lap_k = base / np.array(lap_k)\n",
    "# redOctree = base / np.array(redOctree)\n",
    "\n",
    "plt.close()\n",
    "plt.figure(figsize=(3.5, 1.5))\n",
    "# plt.plot(val_k, opt_k, label='opt-rank-k', color='orange', linewidth=1.95)\n",
    "plt.plot(val_k, lap_k, label='lap-rank-k', color='green', linewidth=1.95)\n",
    "plt.scatter(val_k1, redOctree, label='red-octree', color='steelblue', s=29)\n",
    "plt.xscale('log')\n",
    "plt.legend()\n",
    "plt.grid(False)\n",
    "plt.xlabel('Matrix Rank', fontsize=10)\n",
    "plt.ylabel('Time (in s)', fontsize=10)\n",
    "plt.xticks([128, 256, 512, 1024, 2048, 4096], [str(val) for val in [128, 256, 512, 1024, 2048, 4096]])\n",
    "#plt.ylim(0.0, 0.2)\n",
    "plt.gca().set_xticks([128, 256, 512, 1024, 2048, 4096])\n",
    "plt.gca().xaxis.set_tick_params(which='major', length=3) # Adjust length as needed\n",
    "plt.gca().set_xticks([], minor=True) # remove minor ticks\n",
    "plt.grid(axis='y', linestyle='-', linewidth=0.5)\n",
    "plt.savefig('./figures/CovEstiTime.pdf', bbox_inches='tight', dpi=2048, pad_inches=0.03)\n",
    "plt.show()"
   ]
  },
  {
   "cell_type": "code",
   "execution_count": null,
   "metadata": {},
   "outputs": [],
   "source": [
    "fig, axs = plt.subplots(nrows=1, ncols=7)\n",
    "\n",
    "for i, k in enumerate([128, 256, 512, 1024, 2048, 4096, 0]):\n",
    "    for mode in [1]:\n",
    "        if k == 0:\n",
    "            inv = np.diag(invGT)\n",
    "        else:\n",
    "            inv = np.diag(np.sqrt(np.maximum(read_matrix_from_file(f\"./mats/invSVDmat_M{mode}_K{k}.bin\"), 0.0)))\n",
    "        print(i)\n",
    "        axs[i].hist(inv, bins=512)\n",
    "        axs[i].set_xlim(0, np.max(np.diag(invGT)))\n",
    "        axs[i].set_ylim(0, 400)\n",
    "\n",
    "# inv = np.diag(np.sqrt(np.maximum(read_matrix_from_file(f\"./mats/invSVDmat_M{1}_K{128}.bin\"), 0.0)))\n",
    "# # inv = np.diag(invGT)\n",
    "# print(inv.shape)\n",
    "# plt.hist(inv, bins=128)\n"
   ]
  },
  {
   "cell_type": "code",
   "execution_count": null,
   "metadata": {},
   "outputs": [],
   "source": [
    "invGT = np.sqrt(np.maximum(np.ndarray.flatten(np.load(\"./test/varK0.bin.npy\")), 0.0))\n",
    "# invGT = read_matrix_from_file(\"./mats/invSVDmat.bin\")\n",
    "# invGT = read_matrix_from_file(\"./mats/invSVDmat.bin\")\n",
    "for k in [128, 256, 362, 512, 724, 1024, 1448, 2048]:\n",
    "    inv = np.ndarray.flatten(np.load(f\"./test/varK{k}.bin.npy\"))\n",
    "    inv = np.sqrt(inv)\n",
    "    inv = np.abs(inv - invGT) / inv\n",
    "    inv\n",
    "    print(np.mean(inv[inv < 100]), end=', ')\n",
    "\n",
    "inv"
   ]
  },
  {
   "cell_type": "code",
   "execution_count": null,
   "metadata": {},
   "outputs": [],
   "source": [
    "inv = read_matrix_from_file(f\"./mats/invSVDmat_M3_K2896.bin\")\n",
    "inv"
   ]
  },
  {
   "cell_type": "code",
   "execution_count": null,
   "metadata": {},
   "outputs": [],
   "source": [
    "print(np.mean(np.abs(invGT - inv)))\n",
    "print(np.mean(np.abs(np.diag(invGT) - np.diag(inv))))"
   ]
  },
  {
   "cell_type": "code",
   "execution_count": null,
   "metadata": {},
   "outputs": [],
   "source": [
    "np.sum(inv[0, :] > 50.0)"
   ]
  },
  {
   "cell_type": "code",
   "execution_count": null,
   "metadata": {},
   "outputs": [],
   "source": [
    "conv = read_matrix_from_file(\"conv.bin\")\n",
    "a = conv.T @ conv\n",
    "np.sum(np.abs(np.identity(a.shape[0]) - a))\n",
    "# np.sum(np.abs(np.diag(np.identity(a.shape[0])) - np.diag(a)))"
   ]
  },
  {
   "cell_type": "code",
   "execution_count": null,
   "metadata": {},
   "outputs": [],
   "source": [
    "G=33\n",
    "# T=0.5*G\n",
    "x = np.linspace(0., G-1, num=G)\n",
    "y = np.linspace(0., G-1, num=G)\n",
    "def fun(o, c):\n",
    "    # return np.cos(np.pi * o * x / (G-1)) * np.cos(np.pi * c * y / (G-1))\n",
    "    return np.cos(np.pi * o * x / (G-1))\n",
    "\n",
    "np.mean(fun(3,2) * fun(5,2))"
   ]
  },
  {
   "cell_type": "code",
   "execution_count": null,
   "metadata": {},
   "outputs": [],
   "source": [
    "import numpy as np\n",
    "\n",
    "# To-do: this should output values too.\n",
    "\n",
    "def grid_laplacian_eigenfunctions(num_modes,gs,l):\n",
    "    \"\"\"\n",
    "    Returns the eigenfunctions and eigenvalues of the Laplacian on a regular grid with Neumann boundary conditions.\n",
    "    \n",
    "    Parameters\n",
    "    ----------\n",
    "    num_modes : int\n",
    "        Number of eigenfunctions and eigenvalues to return\n",
    "    gs : (dim,) int numpy array\n",
    "        Grid size in each dimension\n",
    "    l : (dim,) float numpy array\n",
    "        Length of the grid in each dimension\n",
    "    \n",
    "    Returns\n",
    "    -------\n",
    "    vecs : (num_grid_points,num_modes) numpy array\n",
    "        Eigenfunctions\n",
    "\n",
    "    See also\n",
    "    --------\n",
    "    poisson_surface_reconstruction\n",
    "\n",
    "    Notes\n",
    "    -----\n",
    "    This function uses the formula in \"Eigenvalues of the Laplacian with Neumann Boundary Conditions\" by H. P. W. Gottlieb, 1985. Right now, this function only works for 3D and 2D grids. It should be easy/trivial to extend to higher dimensions.\n",
    "\n",
    "    Examples\n",
    "    --------\n",
    "    ```python\n",
    "    import numpy as np\n",
    "    import gpytoolbox\n",
    "    gs = np.array([10,10])\n",
    "    l = np.array([1.0,1.0])\n",
    "    num_modes = 10\n",
    "    vecs, vals = gpytoolbox.grid_laplacian_eigenfunctions(num_modes,gs,l)\n",
    "    ```\n",
    "    \"\"\"\n",
    "\n",
    "    # There's probably some refactoring that could be done on this code so that the dimensionality is not hard-coded.\n",
    "\n",
    "    # Get grid\n",
    "    dim = gs.shape[0]\n",
    "\n",
    "    def psi(N,l,v):\n",
    "        d = v.shape[1]\n",
    "        out = np.ones(v.shape[0])\n",
    "        val = 0\n",
    "        for dd in range(d):\n",
    "            out = out*np.cos(N[dd]*np.pi*v[:,dd]/l[dd])\n",
    "            val = val + (np.pi**2.0)*((N[dd]/l[dd])**2.0)\n",
    "        return out, val\n",
    "\n",
    "\n",
    "    if dim==3:\n",
    "        gx, gy, gz = np.meshgrid(np.linspace(0,l[0],gs[0]),np.linspace(0,l[1],gs[1]),np.linspace(0,l[2],gs[2]),indexing='ij')\n",
    "        v = np.concatenate((np.reshape(gx,(-1, 1),order='F'),np.reshape(gy,(-1, 1),order='F'),np.reshape(gz,(-1, 1),order='F')),axis=1)\n",
    "        # This is ad-hoc so it's faster... We should come up with a smarter way of doing this.\n",
    "        num_in_each_dim = round(np.sqrt(num_modes//8))\n",
    "        # num_in_each_dim = num_modes\n",
    "        vals_debug = np.zeros(num_in_each_dim*num_in_each_dim*num_in_each_dim)\n",
    "        K_vector = np.arange(num_in_each_dim*num_in_each_dim*num_in_each_dim) % num_in_each_dim\n",
    "        J_vector = np.arange(num_in_each_dim*num_in_each_dim*num_in_each_dim) // num_in_each_dim % num_in_each_dim\n",
    "        I_vector = np.arange(num_in_each_dim*num_in_each_dim*num_in_each_dim) // (num_in_each_dim*num_in_each_dim)\n",
    "\n",
    "        ind_vectors = []\n",
    "        ind_vectors.append(I_vector)\n",
    "        ind_vectors.append(J_vector)\n",
    "        ind_vectors.append(K_vector)\n",
    "        for dd in range(dim):\n",
    "            vals_debug = vals_debug + (np.pi**2.0)*((ind_vectors[dd]/l[dd])**2.0)\n",
    "        # assert((vals_debug==vals).all())\n",
    "        order = np.argsort(vals_debug)\n",
    "        relevant_indices = order[0:num_modes]\n",
    "        vecs_debug = np.ones((v.shape[0],num_modes))\n",
    "        for s in range(len(relevant_indices)):\n",
    "            vecs_debug[:,s], _ = psi([I_vector[relevant_indices[s]],J_vector[relevant_indices[s]],K_vector[relevant_indices[s]]],l,v)\n",
    "        vecs = vecs_debug\n",
    "        vals = vals_debug\n",
    "        vals = vals[relevant_indices]\n",
    "    else:\n",
    "        gx, gy = np.meshgrid(np.linspace(0,l[0],gs[0]),np.linspace(0,l[1],gs[1]))\n",
    "        # h = np.array([gx[1,1]-gx[0,0],gy[1,1]-gy[0,0]])\n",
    "        v = np.concatenate((np.reshape(gx,(-1, 1)),np.reshape(gy,(-1, 1))),axis=1)\n",
    "        num_in_each_dim = num_modes // 10 \n",
    "        num_in_each_dim = num_modes\n",
    "        vals = np.zeros(num_in_each_dim*num_in_each_dim)\n",
    "\n",
    "        I_vector = np.arange(num_in_each_dim*num_in_each_dim)// num_in_each_dim\n",
    "        \n",
    "        J_vector = np.arange(num_in_each_dim*num_in_each_dim)% num_in_each_dim\n",
    "        \n",
    "        ind_vectors = []\n",
    "        ind_vectors.append(I_vector)\n",
    "        ind_vectors.append(J_vector)\n",
    "\n",
    "        for dd in range(dim):\n",
    "            vals = vals + (np.pi**2.0)*((ind_vectors[dd]/l[dd])**2.0)\n",
    "        order = np.argsort(vals)\n",
    "        relevant_indices = order[0:num_modes]\n",
    "        vecs_debug = np.ones((v.shape[0],num_modes))\n",
    "        for s in range(len(relevant_indices)):\n",
    "            vecs_debug[:,s], _ = psi([I_vector[relevant_indices[s]],J_vector[relevant_indices[s]]],l,v)\n",
    "        # print(I_vector[relevant_indices])\n",
    "        # print(J_vector[relevant_indices])\n",
    "        vecs = vecs_debug\n",
    "        vals = vals[relevant_indices]\n",
    "    # This is not necessary\n",
    "    # vecs = vecs/np.tile(np.linalg.norm(vecs,axis=0),(vecs.shape[0],1))\n",
    "    # print(np.linalg.norm(vecs,axis=0),(vecs.shape[0],1))\n",
    "\n",
    "    return vecs"
   ]
  },
  {
   "cell_type": "code",
   "execution_count": null,
   "metadata": {},
   "outputs": [],
   "source": [
    "L = grid_laplacian_eigenfunctions(1024,np.array((32, 32)), np.array((1., 1.)))\n",
    "a = L.T @ L\n",
    "np.mean(np.abs(np.identity(1024) - a))"
   ]
  },
  {
   "cell_type": "code",
   "execution_count": null,
   "metadata": {},
   "outputs": [],
   "source": []
  },
  {
   "cell_type": "code",
   "execution_count": 32,
   "metadata": {},
   "outputs": [
    {
     "data": {
      "text/plain": [
       "(120856,)"
      ]
     },
     "execution_count": 32,
     "metadata": {},
     "output_type": "execute_result"
    }
   ],
   "source": [
    "def read_array_from_file(filename):\n",
    "    with open(filename, \"rb\") as file:\n",
    "        # Read the size of the array\n",
    "        size = np.fromfile(file, dtype=np.int32, count=1)[0]\n",
    "\n",
    "        # Read the array elements\n",
    "        data = np.fromfile(file, dtype=np.float32, count=size)\n",
    "    return data\n",
    "data = read_array_from_file(\"./output/stats/Cat_60K_0.002_2_xyErrors.bin\")\n",
    "# plt.hist(data, bins=400, density=True, color=\"#7faefa\", alpha=0.8)\n",
    "# x = np.linspace(np.min(data), np.max(data), 1000)\n",
    "# std = 1\n",
    "# plt.plot(x, np.exp(-0.5*x**2/std**2)/(np.sqrt(2*np.pi)*std), color=\"#609cfc\")\n",
    "# plt.xlim(-8, 8)\n",
    "np.std(data)\n",
    "data.shape"
   ]
  },
  {
   "cell_type": "code",
   "execution_count": 97,
   "metadata": {},
   "outputs": [
    {
     "data": {
      "image/png": "[encoded data removed]",
      "text/plain": [
       "<Figure size 1400x320 with 1 Axes>"
      ]
     },
     "metadata": {},
     "output_type": "display_data"
    }
   ],
   "source": [
    "import matplotlib.transforms as mtransforms\n",
    "\n",
    "mu = read_array_from_file(\"muLine.txt\")\n",
    "std = np.sqrt(read_array_from_file(\"varLine.txt\"))\n",
    "plt.close()\n",
    "plt.figure(figsize=(4*3.5, 4*0.8))\n",
    "plt.plot(list(range(len(mu))), mu, linewidth=1.95)\n",
    "plt.fill_between(list(range(len(mu))), mu-std, mu+std, alpha = 0.2)\n",
    "plt.grid(False)\n",
    "plt.grid(axis='y', linestyle='-', linewidth=0.8, alpha=0.4)\n",
    "plt.xlim(0, len(mu))\n",
    "plt.ylim(-10, 10)\n",
    "plt.xticks([])  # Or plt.gca().set_xticks([])\n",
    "plt.axhline(y=0, color='black', linewidth=1)\n",
    "\n",
    "# We need a renderer to calculate the bbox\n",
    "renderer = plt.gcf().canvas.get_renderer()\n",
    "\n",
    "# Get the tight bounding box in *figure pixels*\n",
    "tight_bbox_px = plt.gcf().get_tightbbox(renderer)\n",
    "\n",
    "expanded_bbox_px = tight_bbox_px.padded(0) # Start with an exact copy\n",
    "expanded_bbox_px.y1 += 0.2\n",
    "\n",
    "plt.savefig('./figures/1DexMuStd.pdf', bbox_inches=expanded_bbox_px, dpi=1024, pad_inches=0.03)\n",
    "plt.show()\n"
   ]
  },
  {
   "cell_type": "code",
   "execution_count": 98,
   "metadata": {},
   "outputs": [
    {
     "data": {
      "image/png": "[encoded data removed]",
      "text/plain": [
       "<Figure size 1400x320 with 1 Axes>"
      ]
     },
     "metadata": {},
     "output_type": "display_data"
    }
   ],
   "source": [
    "import scipy as sp\n",
    "surface_density = sp.stats.norm.pdf(mu, 0.0, std)\n",
    "plt.close()\n",
    "plt.figure(figsize=(4*3.5, 4*0.8))\n",
    "plt.grid(False)\n",
    "plt.grid(axis='y', linestyle='-', linewidth=0.8, alpha=0.4)\n",
    "plt.plot(surface_density, color='orange', linewidth=1.95)\n",
    "plt.ylim(0.0, 0.7)\n",
    "plt.xlim(0, len(mu))\n",
    "plt.xticks([])  # Or plt.gca().set_xticks([])\n",
    "\n",
    "# We need a renderer to calculate the bbox\n",
    "renderer = plt.gcf().canvas.get_renderer()\n",
    "\n",
    "# Get the tight bounding box in *figure pixels*\n",
    "tight_bbox_px = plt.gcf().get_tightbbox(renderer)\n",
    "\n",
    "expanded_bbox_px = tight_bbox_px.padded(0) # Start with an exact copy\n",
    "expanded_bbox_px.y1 += 0.25\n",
    "\n",
    "\n",
    "plt.savefig('./figures/1DexPsur.pdf', bbox_inches=expanded_bbox_px, dpi=1024, pad_inches=0.03)\n",
    "plt.show()"
   ]
  },
  {
   "cell_type": "code",
   "execution_count": 99,
   "metadata": {},
   "outputs": [
    {
     "data": {
      "image/png": "[encoded data removed]",
      "text/plain": [
       "<Figure size 1400x320 with 1 Axes>"
      ]
     },
     "metadata": {},
     "output_type": "display_data"
    }
   ],
   "source": [
    "inside_prob = sp.stats.norm.cdf(mu, 0.0, std)\n",
    "\n",
    "plt.close()\n",
    "plt.figure(figsize=(4*3.5, 4*0.8))\n",
    "plt.grid(False)\n",
    "plt.grid(axis='y', linestyle='-', linewidth=0.8, alpha=0.4)\n",
    "plt.plot(inside_prob, color='green', linewidth=1.95)\n",
    "plt.ylim(0.0, 1.0)\n",
    "plt.xlim(0, len(mu))\n",
    "plt.xticks([])  # Or plt.gca().set_xticks([])\n",
    "\n",
    "# We need a renderer to calculate the bbox\n",
    "renderer = plt.gcf().canvas.get_renderer()\n",
    "\n",
    "# Get the tight bounding box in *figure pixels*\n",
    "tight_bbox_px = plt.gcf().get_tightbbox(renderer)\n",
    "\n",
    "expanded_bbox_px = tight_bbox_px.padded(0) # Start with an exact copy\n",
    "expanded_bbox_px.y1 += 0.25\n",
    "\n",
    "\n",
    "plt.savefig('./figures/1DexPin.pdf', bbox_inches=expanded_bbox_px, dpi=1024, pad_inches=0.03)\n",
    "plt.show()"
   ]
  },
  {
   "cell_type": "code",
   "execution_count": null,
   "metadata": {},
   "outputs": [],
   "source": []
  },
  {
   "cell_type": "code",
   "execution_count": 51,
   "metadata": {},
   "outputs": [],
   "source": [
    "from plyfile import PlyData, PlyElement\n",
    "import numpy as np\n",
    "data = PlyData.read(\"./data/LucyModel_v1.ply\")\n",
    "std = np.array(data.elements[0].data[\"noise_std\"])\n",
    "\n",
    "data1 = PlyData.read(\"./output/LucyModel.ply\")\n",
    "std1 = np.array(data1.elements[0].data[\"noise_std\"])"
   ]
  },
  {
   "cell_type": "code",
   "execution_count": 52,
   "metadata": {},
   "outputs": [
    {
     "name": "stdout",
     "output_type": "stream",
     "text": [
      "0.022352924570441246 0.04678975045681\n",
      "0.0014058443126063677 0.0029427516010572326\n",
      "0.00011984353340318742 0.0006050313676490723\n"
     ]
    },
    {
     "data": {
      "text/plain": [
       "0.0018815514660856258"
      ]
     },
     "execution_count": 52,
     "metadata": {},
     "output_type": "execute_result"
    }
   ],
   "source": [
    "# diagonalSize = 19.2615056525\n",
    "diagonalSize = 15.9\n",
    "print(f\"{np.min(std)} {np.max(std)}\")\n",
    "print(f\"{np.min(std)/diagonalSize} {np.max(std)/diagonalSize}\")\n",
    "print(f\"{np.min(std1)/diagonalSize} {np.max(std1)/diagonalSize}\")\n",
    "# np.min(std1)\n",
    "\n",
    "\n",
    "# 100 * (0.2/diagonalSize)\n",
    "# Error v2: 0.49711360871416965 1.711882322839221\n",
    "# Prior error: 0.011984353340318743 0.060503136764907234\n",
    "np.mean(std) / diagonalSize"
   ]
  },
  {
   "cell_type": "code",
   "execution_count": 8,
   "metadata": {},
   "outputs": [],
   "source": [
    "from plyfile import PlyData, PlyElement\n",
    "import numpy as np\n",
    "data = PlyData.read(\"./output/Fox1cm_01.ply\")\n",
    "std01 = np.array(data.elements[0].data[\"noise_std\"])\n",
    "\n",
    "data1 = PlyData.read(\"./output/Fox1cm_001.ply\")\n",
    "std001 = np.array(data1.elements[0].data[\"noise_std\"])\n",
    "\n",
    "data2 = PlyData.read(\"./output/Fox1cm_0002.ply\")\n",
    "std0002 = np.array(data2.elements[0].data[\"noise_std\"])"
   ]
  },
  {
   "cell_type": "code",
   "execution_count": 50,
   "metadata": {},
   "outputs": [
    {
     "name": "stdout",
     "output_type": "stream",
     "text": [
      "0.0009946943010170448 0.004762955350319141\n",
      "0.0004926710129540584 0.0006914806793335126\n",
      "0.0001846125401405211 0.00024689288176407063\n"
     ]
    },
    {
     "data": {
      "image/png": "[encoded data removed]",
      "text/plain": [
       "<Figure size 350x80 with 1 Axes>"
      ]
     },
     "metadata": {},
     "output_type": "display_data"
    }
   ],
   "source": [
    "diagonalSize = 19.7\n",
    "print(f\"{np.min(std01)/diagonalSize} {np.max(std01)/diagonalSize}\")\n",
    "print(f\"{np.min(std001)/diagonalSize} {np.max(std001)/diagonalSize}\")\n",
    "print(f\"{np.min(std0002)/diagonalSize} {np.max(std0002)/diagonalSize}\")\n",
    "plt.figure(figsize=(1*3.5, 1*0.8))\n",
    "# plt.hist(std01/diagonalSize*100, bins=200, density=True, alpha=0.85)\n",
    "plt.hist(std001/diagonalSize*100, color='green', bins=200, density=True, alpha=0.8)\n",
    "# plt.hist(std0002/diagonalSize*100, color='red', bins=200, density=True, alpha=0.8)\n",
    "plt.xlim(0*100, 0.0021*100)\n",
    "plt.yticks([])  # Or plt.gca().set_xticks([])\n",
    "plt.savefig('./figures/plotFox0002.png', bbox_inches='tight', dpi=512)"
   ]
  },
  {
   "cell_type": "code",
   "execution_count": 27,
   "metadata": {},
   "outputs": [
    {
     "data": {
      "text/plain": [
       "0.010609137055837563"
      ]
     },
     "execution_count": 27,
     "metadata": {},
     "output_type": "execute_result"
    }
   ],
   "source": [
    "0.209/diagonalSize"
   ]
  },
  {
   "cell_type": "code",
   "execution_count": 113,
   "metadata": {},
   "outputs": [
    {
     "data": {
      "text/plain": [
       "1.0756879326321207"
      ]
     },
     "execution_count": 113,
     "metadata": {},
     "output_type": "execute_result"
    },
    {
     "data": {
      "image/png": "[encoded data removed]",
      "text/plain": [
       "<Figure size 640x480 with 1 Axes>"
      ]
     },
     "metadata": {},
     "output_type": "display_data"
    }
   ],
   "source": [
    "models = [\"Bunny\", \"Frog\", \"Hand\", \"LightBulb\", \"Fox\", \"Cat\", \"SH2\"]\n",
    "models = [\"Hand\"]\n",
    "def read_array_from_file(filename):\n",
    "    with open(filename, \"rb\") as file:\n",
    "        # Read the size of the array\n",
    "        size = np.fromfile(file, dtype=np.int32, count=1)[0]\n",
    "\n",
    "        # Read the array elements\n",
    "        data = np.fromfile(file, dtype=np.float32, count=size)\n",
    "    return data\n",
    "\n",
    "points = np.array([])\n",
    "for model in models:\n",
    "    for numP in [60]:\n",
    "        for i in [0, 1, 2]:\n",
    "            data = read_array_from_file(f\"./output/stats/{model}_{numP}K_0.032_{i}_xyErrors.bin\")\n",
    "            points = np.concatenate((points, data))\n",
    "plt.hist(points, bins=400, density=True, color=\"#7faefa\", alpha=0.8)\n",
    "x = np.linspace(np.min(points), np.max(points), 1000)\n",
    "# std = np.std(points)\n",
    "std = 1\n",
    "plt.plot(x, np.exp(-0.5*x**2/std**2)/(np.sqrt(2*np.pi)*std), color=\"#609cfc\")\n",
    "plt.xlim(-6, 6)\n",
    "np.std(points)"
   ]
  },
  {
   "cell_type": "code",
   "execution_count": 66,
   "metadata": {},
   "outputs": [],
   "source": [
    "from numpy.random import seed\n",
    "from numpy.random import randn\n",
    "from scipy.stats import shapiro"
   ]
  },
  {
   "cell_type": "code",
   "execution_count": 86,
   "metadata": {},
   "outputs": [
    {
     "name": "stdout",
     "output_type": "stream",
     "text": [
      "Statistics=0.970, p=0.000\n"
     ]
    },
    {
     "name": "stderr",
     "output_type": "stream",
     "text": [
      "c:\\Users\\user\\AppData\\Local\\Programs\\Python\\Python311\\Lib\\site-packages\\scipy\\stats\\_axis_nan_policy.py:586: UserWarning: scipy.stats.shapiro: For N > 5000, computed p-value may not be accurate. Current N is 359748.\n",
      "  res = hypotest_fun_out(*samples, **kwds)\n"
     ]
    }
   ],
   "source": [
    "stat, p = shapiro(points)\n",
    "print('Statistics=%.3f, p=%.3f' % (stat, p))"
   ]
  },
  {
   "cell_type": "code",
   "execution_count": 1,
   "metadata": {},
   "outputs": [],
   "source": [
    "import trimesh\n",
    "import point_cloud_utils as pcu\n",
    "import numpy as np"
   ]
  },
  {
   "cell_type": "code",
   "execution_count": null,
   "metadata": {},
   "outputs": [
    {
     "name": "stdout",
     "output_type": "stream",
     "text": [
      "0.00017617179935075606\n",
      "0.00020400663159014012\n",
      "0.00018492285489485108\n"
     ]
    }
   ],
   "source": [
    "\n",
    "\"\"\"\n",
    "Happy500K0004\n",
    "ours: 0.00024167457426022142\n",
    "SSD: 0.00033347919673043345\n",
    "Poisson: 0.000354361856934535\n",
    "\n",
    "Happy400K001\n",
    "ours: 0.0007722217131183897\n",
    "SSD: 0.0011147712910649639\n",
    "Poisson: 0.0006809890085742059\n",
    "\n",
    "Happy350K0025\n",
    "0.002037529210163492\n",
    "0.002079699658961003\n",
    "0.0018168730963730683\n",
    "\n",
    "Happy300K005\n",
    "0.004313084973934405\n",
    "0.003198225616207741\n",
    "0.0030256335342736225\n",
    "\n",
    "Happy300K006N1\n",
    "Ours: 0.004770865433463137\n",
    "SSD: 0.005111801770430087\n",
    "Poisson: 0.004116324417524322\n",
    "\n",
    "Happy400K002N1\n",
    "Ours: 0.0013521149789626776\n",
    "SSD: 0.002212569232822931\n",
    "Poisson: 0.0014103496120214775\n",
    "\n",
    "Dragon400K002N1\n",
    "0.0012076120211457842\n",
    "0.001752271827221564\n",
    "0.0013084515260280095\n",
    "\n",
    "\"\"\"\n",
    "\n",
    "def getMeanDist(mesh, omesh):\n",
    "    m = trimesh.Trimesh(vertices=mesh.vertices, faces=mesh.faces)\n",
    "    points, _ = trimesh.sample.sample_surface(m, count=10000000)\n",
    "    dist, fid, bc = pcu.closest_points_on_mesh(points.astype(dtype=np.float64, order='C'), omesh.vertices, omesh.faces)\n",
    "    return np.mean(dist)\n",
    "\n",
    "\n",
    "name = \"Happy500K0006N1\"\n",
    "omesh = trimesh.load(\"./models/Happy.ply\", force='mesh')\n",
    "mymod = trimesh.load(f\"./output/{name}.ply\", force='mesh')\n",
    "ssdmod = trimesh.load(f\"./output/{name}SSD.ply\", force='mesh')\n",
    "\n",
    "cpmod = trimesh.load(f\"./output/{name}CP.ply\", force='mesh')\n",
    "\n",
    "print(0.4366 * getMeanDist(mymod, omesh))\n",
    "print(0.4366 * getMeanDist(ssdmod, omesh))\n",
    "print(0.4366 * getMeanDist(cpmod, omesh))"
   ]
  }
 ],
 "metadata": {
  "kernelspec": {
   "display_name": "Python 3",
   "language": "python",
   "name": "python3"
  },
  "language_info": {
   "codemirror_mode": {
    "name": "ipython",
    "version": 3
   },
   "file_extension": ".py",
   "mimetype": "text/x-python",
   "name": "python",
   "nbconvert_exporter": "python",
   "pygments_lexer": "ipython3",
   "version": "3.11.6"
  }
 },
 "nbformat": 4,
 "nbformat_minor": 2
}
